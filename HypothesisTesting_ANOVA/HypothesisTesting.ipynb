{
  "nbformat": 4,
  "nbformat_minor": 0,
  "metadata": {
    "colab": {
      "name": "HypothesisTesting.ipynb",
      "provenance": [],
      "authorship_tag": "ABX9TyP1kHp01OMy9t91TYE/kjPI",
      "include_colab_link": true
    },
    "kernelspec": {
      "name": "python3",
      "display_name": "Python 3"
    }
  },
  "cells": [
    {
      "cell_type": "markdown",
      "metadata": {
        "id": "view-in-github",
        "colab_type": "text"
      },
      "source": [
        "<a href=\"https://colab.research.google.com/github/sunshineluyao/NYU_Integrated_Marketing/blob/main/HypothesisTesting_ANOVA/HypothesisTesting.ipynb\" target=\"_parent\"><img src=\"https://colab.research.google.com/assets/colab-badge.svg\" alt=\"Open In Colab\"/></a>"
      ]
    },
    {
      "cell_type": "markdown",
      "metadata": {
        "id": "Omc83odVdmmS"
      },
      "source": [
        "**Install the Package Pandas and Numpy for the function of \"TABLE\" and \"Math\"**"
      ]
    },
    {
      "cell_type": "code",
      "metadata": {
        "id": "OlBeCKF6dlEK"
      },
      "source": [
        "import pandas as pd\n",
        "import numpy as np"
      ],
      "execution_count": 10,
      "outputs": []
    },
    {
      "cell_type": "markdown",
      "metadata": {
        "id": "xXnlLuN8c_YT"
      },
      "source": [
        "**Read the marketing data from Github Url (\"Read Raw\")**"
      ]
    },
    {
      "cell_type": "code",
      "metadata": {
        "id": "IPSrXY__MjdC"
      },
      "source": [
        "df = pd.read_csv('https://raw.githubusercontent.com/sunshineluyao/NYU_Integrated_Marketing/main/HypothesisTesting_ANOVA/bank-full.csv',sep=\";\")\n",
        "df.head()"
      ],
      "execution_count": null,
      "outputs": []
    },
    {
      "cell_type": "markdown",
      "metadata": {
        "id": "m0xoTL5yfiUo"
      },
      "source": [
        "**View the data information**"
      ]
    },
    {
      "cell_type": "code",
      "metadata": {
        "id": "OdQRdpARflGt",
        "outputId": "bfbdc6b7-756c-4a7f-e09f-ac50e016c1d8",
        "colab": {
          "base_uri": "https://localhost:8080/",
          "height": 425
        }
      },
      "source": [
        "df.info()"
      ],
      "execution_count": 12,
      "outputs": [
        {
          "output_type": "stream",
          "text": [
            "<class 'pandas.core.frame.DataFrame'>\n",
            "RangeIndex: 45211 entries, 0 to 45210\n",
            "Data columns (total 17 columns):\n",
            " #   Column     Non-Null Count  Dtype \n",
            "---  ------     --------------  ----- \n",
            " 0   age        45211 non-null  int64 \n",
            " 1   job        45211 non-null  object\n",
            " 2   marital    45211 non-null  object\n",
            " 3   education  45211 non-null  object\n",
            " 4   default    45211 non-null  object\n",
            " 5   balance    45211 non-null  int64 \n",
            " 6   housing    45211 non-null  object\n",
            " 7   loan       45211 non-null  object\n",
            " 8   contact    45211 non-null  object\n",
            " 9   day        45211 non-null  int64 \n",
            " 10  month      45211 non-null  object\n",
            " 11  duration   45211 non-null  int64 \n",
            " 12  campaign   45211 non-null  int64 \n",
            " 13  pdays      45211 non-null  int64 \n",
            " 14  previous   45211 non-null  int64 \n",
            " 15  poutcome   45211 non-null  object\n",
            " 16  y          45211 non-null  object\n",
            "dtypes: int64(7), object(10)\n",
            "memory usage: 5.9+ MB\n"
          ],
          "name": "stdout"
        }
      ]
    },
    {
      "cell_type": "markdown",
      "metadata": {
        "id": "281445ZcdUNb"
      },
      "source": [
        "**Install the pingouin Package**"
      ]
    },
    {
      "cell_type": "code",
      "metadata": {
        "id": "e71QYj3bgSae",
        "outputId": "b3041586-1671-4bcf-8cc9-a52baf0a3319",
        "colab": {
          "base_uri": "https://localhost:8080/",
          "height": 476
        }
      },
      "source": [
        "pip install pingouin"
      ],
      "execution_count": 13,
      "outputs": [
        {
          "output_type": "stream",
          "text": [
            "Requirement already satisfied: pingouin in /usr/local/lib/python3.6/dist-packages (0.3.8)\n",
            "Requirement already satisfied: scikit-learn in /usr/local/lib/python3.6/dist-packages (from pingouin) (0.22.2.post1)\n",
            "Requirement already satisfied: tabulate in /usr/local/lib/python3.6/dist-packages (from pingouin) (0.8.7)\n",
            "Requirement already satisfied: numpy>=1.15 in /usr/local/lib/python3.6/dist-packages (from pingouin) (1.18.5)\n",
            "Requirement already satisfied: pandas>=0.24 in /usr/local/lib/python3.6/dist-packages (from pingouin) (1.1.3)\n",
            "Requirement already satisfied: scipy>=1.3 in /usr/local/lib/python3.6/dist-packages (from pingouin) (1.4.1)\n",
            "Requirement already satisfied: matplotlib>=3.0.2 in /usr/local/lib/python3.6/dist-packages (from pingouin) (3.2.2)\n",
            "Requirement already satisfied: seaborn>=0.9.0 in /usr/local/lib/python3.6/dist-packages (from pingouin) (0.11.0)\n",
            "Requirement already satisfied: pandas-flavor>=0.1.2 in /usr/local/lib/python3.6/dist-packages (from pingouin) (0.2.0)\n",
            "Requirement already satisfied: statsmodels>=0.10.0 in /usr/local/lib/python3.6/dist-packages (from pingouin) (0.10.2)\n",
            "Requirement already satisfied: outdated in /usr/local/lib/python3.6/dist-packages (from pingouin) (0.2.0)\n",
            "Requirement already satisfied: joblib>=0.11 in /usr/local/lib/python3.6/dist-packages (from scikit-learn->pingouin) (0.17.0)\n",
            "Requirement already satisfied: python-dateutil>=2.7.3 in /usr/local/lib/python3.6/dist-packages (from pandas>=0.24->pingouin) (2.8.1)\n",
            "Requirement already satisfied: pytz>=2017.2 in /usr/local/lib/python3.6/dist-packages (from pandas>=0.24->pingouin) (2018.9)\n",
            "Requirement already satisfied: pyparsing!=2.0.4,!=2.1.2,!=2.1.6,>=2.0.1 in /usr/local/lib/python3.6/dist-packages (from matplotlib>=3.0.2->pingouin) (2.4.7)\n",
            "Requirement already satisfied: cycler>=0.10 in /usr/local/lib/python3.6/dist-packages (from matplotlib>=3.0.2->pingouin) (0.10.0)\n",
            "Requirement already satisfied: kiwisolver>=1.0.1 in /usr/local/lib/python3.6/dist-packages (from matplotlib>=3.0.2->pingouin) (1.2.0)\n",
            "Requirement already satisfied: xarray in /usr/local/lib/python3.6/dist-packages (from pandas-flavor>=0.1.2->pingouin) (0.15.1)\n",
            "Requirement already satisfied: patsy>=0.4.0 in /usr/local/lib/python3.6/dist-packages (from statsmodels>=0.10.0->pingouin) (0.5.1)\n",
            "Requirement already satisfied: littleutils in /usr/local/lib/python3.6/dist-packages (from outdated->pingouin) (0.2.2)\n",
            "Requirement already satisfied: requests in /usr/local/lib/python3.6/dist-packages (from outdated->pingouin) (2.23.0)\n",
            "Requirement already satisfied: six>=1.5 in /usr/local/lib/python3.6/dist-packages (from python-dateutil>=2.7.3->pandas>=0.24->pingouin) (1.15.0)\n",
            "Requirement already satisfied: setuptools>=41.2 in /usr/local/lib/python3.6/dist-packages (from xarray->pandas-flavor>=0.1.2->pingouin) (50.3.0)\n",
            "Requirement already satisfied: idna<3,>=2.5 in /usr/local/lib/python3.6/dist-packages (from requests->outdated->pingouin) (2.10)\n",
            "Requirement already satisfied: certifi>=2017.4.17 in /usr/local/lib/python3.6/dist-packages (from requests->outdated->pingouin) (2020.6.20)\n",
            "Requirement already satisfied: chardet<4,>=3.0.2 in /usr/local/lib/python3.6/dist-packages (from requests->outdated->pingouin) (3.0.4)\n",
            "Requirement already satisfied: urllib3!=1.25.0,!=1.25.1,<1.26,>=1.21.1 in /usr/local/lib/python3.6/dist-packages (from requests->outdated->pingouin) (1.24.3)\n"
          ],
          "name": "stdout"
        }
      ]
    },
    {
      "cell_type": "markdown",
      "metadata": {
        "id": "r0bhd0ULxkYm"
      },
      "source": [
        "**Import the pingouin package**"
      ]
    },
    {
      "cell_type": "code",
      "metadata": {
        "id": "2EytQjG8gUYf"
      },
      "source": [
        "import pingouin as pg"
      ],
      "execution_count": 17,
      "outputs": []
    },
    {
      "cell_type": "markdown",
      "metadata": {
        "id": "ZCVY6dXI321s"
      },
      "source": [
        "**One-Sample T-test**"
      ]
    },
    {
      "cell_type": "code",
      "metadata": {
        "id": "3G7BH6yqxh31",
        "outputId": "41cf903b-8486-43ee-ac31-70972ddeaec7",
        "colab": {
          "base_uri": "https://localhost:8080/",
          "height": 114
        }
      },
      "source": [
        "x=df['age']\n",
        "pg.ttest(x, 30)"
      ],
      "execution_count": 19,
      "outputs": [
        {
          "output_type": "stream",
          "text": [
            "/usr/local/lib/python3.6/dist-packages/pingouin/bayesian.py:152: RuntimeWarning: divide by zero encountered in double_scalars\n",
            "  bf10 = 1 / ((1 + t**2 / df)**(-(df + 1) / 2) / integr)\n"
          ],
          "name": "stderr"
        },
        {
          "output_type": "execute_result",
          "data": {
            "text/html": [
              "<div>\n",
              "<style scoped>\n",
              "    .dataframe tbody tr th:only-of-type {\n",
              "        vertical-align: middle;\n",
              "    }\n",
              "\n",
              "    .dataframe tbody tr th {\n",
              "        vertical-align: top;\n",
              "    }\n",
              "\n",
              "    .dataframe thead th {\n",
              "        text-align: right;\n",
              "    }\n",
              "</style>\n",
              "<table border=\"1\" class=\"dataframe\">\n",
              "  <thead>\n",
              "    <tr style=\"text-align: right;\">\n",
              "      <th></th>\n",
              "      <th>T</th>\n",
              "      <th>dof</th>\n",
              "      <th>tail</th>\n",
              "      <th>p-val</th>\n",
              "      <th>CI95%</th>\n",
              "      <th>cohen-d</th>\n",
              "      <th>BF10</th>\n",
              "      <th>power</th>\n",
              "    </tr>\n",
              "  </thead>\n",
              "  <tbody>\n",
              "    <tr>\n",
              "      <th>T-test</th>\n",
              "      <td>218.985328</td>\n",
              "      <td>45210</td>\n",
              "      <td>two-sided</td>\n",
              "      <td>0.0</td>\n",
              "      <td>[40.84, 41.03]</td>\n",
              "      <td>1.029895</td>\n",
              "      <td>inf</td>\n",
              "      <td>1.0</td>\n",
              "    </tr>\n",
              "  </tbody>\n",
              "</table>\n",
              "</div>"
            ],
            "text/plain": [
              "                 T    dof       tail  ...   cohen-d BF10  power\n",
              "T-test  218.985328  45210  two-sided  ...  1.029895  inf    1.0\n",
              "\n",
              "[1 rows x 8 columns]"
            ]
          },
          "metadata": {
            "tags": []
          },
          "execution_count": 19
        }
      ]
    },
    {
      "cell_type": "code",
      "metadata": {
        "id": "Ryc4Fe-55z_r",
        "outputId": "0ab18d14-0da9-4aba-9a6f-a5e6b70152d7",
        "colab": {
          "base_uri": "https://localhost:8080/",
          "height": 34
        }
      },
      "source": [
        "df['age'].mean()"
      ],
      "execution_count": 24,
      "outputs": [
        {
          "output_type": "execute_result",
          "data": {
            "text/plain": [
              "40.93621021432837"
            ]
          },
          "metadata": {
            "tags": []
          },
          "execution_count": 24
        }
      ]
    },
    {
      "cell_type": "markdown",
      "metadata": {
        "id": "TB-2L_nt4c5m"
      },
      "source": [
        "**Two-Sample T-Test**"
      ]
    },
    {
      "cell_type": "code",
      "metadata": {
        "id": "dJAGdjmc3_N2"
      },
      "source": [
        "balance_housing = df[df['housing']=='yes']['balance']\n",
        "balance_no_housing = df[df['housing']=='no']['balance']"
      ],
      "execution_count": 20,
      "outputs": []
    },
    {
      "cell_type": "code",
      "metadata": {
        "id": "Dcwsn6Xw5qQj",
        "outputId": "f197ca4f-be27-4aa7-8383-fc5d1e282c50",
        "colab": {
          "base_uri": "https://localhost:8080/",
          "height": 34
        }
      },
      "source": [
        "balance_housing.mean()"
      ],
      "execution_count": 22,
      "outputs": [
        {
          "output_type": "execute_result",
          "data": {
            "text/plain": [
              "1175.1030640668523"
            ]
          },
          "metadata": {
            "tags": []
          },
          "execution_count": 22
        }
      ]
    },
    {
      "cell_type": "code",
      "metadata": {
        "id": "kjKLiBEi5sTI",
        "outputId": "a1d0b316-7fe1-476e-cca6-284d6619587d",
        "colab": {
          "base_uri": "https://localhost:8080/",
          "height": 34
        }
      },
      "source": [
        "balance_no_housing.mean()"
      ],
      "execution_count": 23,
      "outputs": [
        {
          "output_type": "execute_result",
          "data": {
            "text/plain": [
              "1596.5012698570788"
            ]
          },
          "metadata": {
            "tags": []
          },
          "execution_count": 23
        }
      ]
    },
    {
      "cell_type": "code",
      "metadata": {
        "id": "-afumI8R5H3a",
        "outputId": "a6ebe97a-177e-48c1-9e64-49270959c216",
        "colab": {
          "base_uri": "https://localhost:8080/",
          "height": 80
        }
      },
      "source": [
        "x=balance_housing\n",
        "y=balance_no_housing\n",
        "pg.ttest(x, y, paired=False)"
      ],
      "execution_count": 21,
      "outputs": [
        {
          "output_type": "execute_result",
          "data": {
            "text/html": [
              "<div>\n",
              "<style scoped>\n",
              "    .dataframe tbody tr th:only-of-type {\n",
              "        vertical-align: middle;\n",
              "    }\n",
              "\n",
              "    .dataframe tbody tr th {\n",
              "        vertical-align: top;\n",
              "    }\n",
              "\n",
              "    .dataframe thead th {\n",
              "        text-align: right;\n",
              "    }\n",
              "</style>\n",
              "<table border=\"1\" class=\"dataframe\">\n",
              "  <thead>\n",
              "    <tr style=\"text-align: right;\">\n",
              "      <th></th>\n",
              "      <th>T</th>\n",
              "      <th>dof</th>\n",
              "      <th>tail</th>\n",
              "      <th>p-val</th>\n",
              "      <th>CI95%</th>\n",
              "      <th>cohen-d</th>\n",
              "      <th>BF10</th>\n",
              "      <th>power</th>\n",
              "    </tr>\n",
              "  </thead>\n",
              "  <tbody>\n",
              "    <tr>\n",
              "      <th>T-test</th>\n",
              "      <td>-14.081118</td>\n",
              "      <td>34203.875315</td>\n",
              "      <td>two-sided</td>\n",
              "      <td>6.625426e-45</td>\n",
              "      <td>[-480.06, -362.74]</td>\n",
              "      <td>0.138728</td>\n",
              "      <td>9.456e+40</td>\n",
              "      <td>1.0</td>\n",
              "    </tr>\n",
              "  </tbody>\n",
              "</table>\n",
              "</div>"
            ],
            "text/plain": [
              "                T           dof       tail  ...   cohen-d       BF10  power\n",
              "T-test -14.081118  34203.875315  two-sided  ...  0.138728  9.456e+40    1.0\n",
              "\n",
              "[1 rows x 8 columns]"
            ]
          },
          "metadata": {
            "tags": []
          },
          "execution_count": 21
        }
      ]
    },
    {
      "cell_type": "markdown",
      "metadata": {
        "id": "0rfEqqBk6U6r"
      },
      "source": [
        "**One-Way ANOVA**"
      ]
    },
    {
      "cell_type": "code",
      "metadata": {
        "id": "IVk35r9D5aBK",
        "outputId": "ad9dac49-4c98-4262-82f6-7f7387f3cfce",
        "colab": {
          "base_uri": "https://localhost:8080/",
          "height": 80
        }
      },
      "source": [
        "aov = pg.anova(dv='balance', between='education', data=df)\n",
        "aov.round(3)"
      ],
      "execution_count": 26,
      "outputs": [
        {
          "output_type": "execute_result",
          "data": {
            "text/html": [
              "<div>\n",
              "<style scoped>\n",
              "    .dataframe tbody tr th:only-of-type {\n",
              "        vertical-align: middle;\n",
              "    }\n",
              "\n",
              "    .dataframe tbody tr th {\n",
              "        vertical-align: top;\n",
              "    }\n",
              "\n",
              "    .dataframe thead th {\n",
              "        text-align: right;\n",
              "    }\n",
              "</style>\n",
              "<table border=\"1\" class=\"dataframe\">\n",
              "  <thead>\n",
              "    <tr style=\"text-align: right;\">\n",
              "      <th></th>\n",
              "      <th>Source</th>\n",
              "      <th>ddof1</th>\n",
              "      <th>ddof2</th>\n",
              "      <th>F</th>\n",
              "      <th>p-unc</th>\n",
              "      <th>np2</th>\n",
              "    </tr>\n",
              "  </thead>\n",
              "  <tbody>\n",
              "    <tr>\n",
              "      <th>0</th>\n",
              "      <td>education</td>\n",
              "      <td>3</td>\n",
              "      <td>45207</td>\n",
              "      <td>116.682</td>\n",
              "      <td>0.0</td>\n",
              "      <td>0.008</td>\n",
              "    </tr>\n",
              "  </tbody>\n",
              "</table>\n",
              "</div>"
            ],
            "text/plain": [
              "      Source  ddof1  ddof2        F  p-unc    np2\n",
              "0  education      3  45207  116.682    0.0  0.008"
            ]
          },
          "metadata": {
            "tags": []
          },
          "execution_count": 26
        }
      ]
    },
    {
      "cell_type": "code",
      "metadata": {
        "id": "8Jx7pUdJ8Bi8",
        "outputId": "47b13d60-843e-49ca-adb5-b698f039199e",
        "colab": {
          "base_uri": "https://localhost:8080/",
          "height": 119
        }
      },
      "source": [
        "df.groupby('education')['balance'].mean()"
      ],
      "execution_count": 28,
      "outputs": [
        {
          "output_type": "execute_result",
          "data": {
            "text/plain": [
              "education\n",
              "primary      1250.949934\n",
              "secondary    1154.880786\n",
              "tertiary     1758.416435\n",
              "unknown      1526.754443\n",
              "Name: balance, dtype: float64"
            ]
          },
          "metadata": {
            "tags": []
          },
          "execution_count": 28
        }
      ]
    },
    {
      "cell_type": "markdown",
      "metadata": {
        "id": "EKhH89Jh89lS"
      },
      "source": [
        "**Two-Way ANOVA**"
      ]
    },
    {
      "cell_type": "code",
      "metadata": {
        "id": "JDUYXNFr8VW1",
        "outputId": "e34c5591-f187-430f-da4e-143ecb89529d",
        "colab": {
          "base_uri": "https://localhost:8080/",
          "height": 173
        }
      },
      "source": [
        "\n",
        "aov = pg.anova(dv='balance', between=['education','job'], data=df)\n",
        "aov.round(3)"
      ],
      "execution_count": 31,
      "outputs": [
        {
          "output_type": "execute_result",
          "data": {
            "text/html": [
              "<div>\n",
              "<style scoped>\n",
              "    .dataframe tbody tr th:only-of-type {\n",
              "        vertical-align: middle;\n",
              "    }\n",
              "\n",
              "    .dataframe tbody tr th {\n",
              "        vertical-align: top;\n",
              "    }\n",
              "\n",
              "    .dataframe thead th {\n",
              "        text-align: right;\n",
              "    }\n",
              "</style>\n",
              "<table border=\"1\" class=\"dataframe\">\n",
              "  <thead>\n",
              "    <tr style=\"text-align: right;\">\n",
              "      <th></th>\n",
              "      <th>Source</th>\n",
              "      <th>SS</th>\n",
              "      <th>DF</th>\n",
              "      <th>MS</th>\n",
              "      <th>F</th>\n",
              "      <th>p-unc</th>\n",
              "      <th>np2</th>\n",
              "    </tr>\n",
              "  </thead>\n",
              "  <tbody>\n",
              "    <tr>\n",
              "      <th>0</th>\n",
              "      <td>education</td>\n",
              "      <td>8.458529e+08</td>\n",
              "      <td>3.0</td>\n",
              "      <td>2.819510e+08</td>\n",
              "      <td>30.802</td>\n",
              "      <td>0.000</td>\n",
              "      <td>0.002</td>\n",
              "    </tr>\n",
              "    <tr>\n",
              "      <th>1</th>\n",
              "      <td>job</td>\n",
              "      <td>1.966850e+09</td>\n",
              "      <td>11.0</td>\n",
              "      <td>1.788045e+08</td>\n",
              "      <td>19.534</td>\n",
              "      <td>0.000</td>\n",
              "      <td>0.005</td>\n",
              "    </tr>\n",
              "    <tr>\n",
              "      <th>2</th>\n",
              "      <td>education * job</td>\n",
              "      <td>5.327554e+08</td>\n",
              "      <td>33.0</td>\n",
              "      <td>1.614410e+07</td>\n",
              "      <td>1.764</td>\n",
              "      <td>0.004</td>\n",
              "      <td>0.001</td>\n",
              "    </tr>\n",
              "    <tr>\n",
              "      <th>3</th>\n",
              "      <td>Residual</td>\n",
              "      <td>4.134038e+11</td>\n",
              "      <td>45163.0</td>\n",
              "      <td>9.153594e+06</td>\n",
              "      <td>NaN</td>\n",
              "      <td>NaN</td>\n",
              "      <td>NaN</td>\n",
              "    </tr>\n",
              "  </tbody>\n",
              "</table>\n",
              "</div>"
            ],
            "text/plain": [
              "            Source            SS       DF            MS       F  p-unc    np2\n",
              "0        education  8.458529e+08      3.0  2.819510e+08  30.802  0.000  0.002\n",
              "1              job  1.966850e+09     11.0  1.788045e+08  19.534  0.000  0.005\n",
              "2  education * job  5.327554e+08     33.0  1.614410e+07   1.764  0.004  0.001\n",
              "3         Residual  4.134038e+11  45163.0  9.153594e+06     NaN    NaN    NaN"
            ]
          },
          "metadata": {
            "tags": []
          },
          "execution_count": 31
        }
      ]
    },
    {
      "cell_type": "code",
      "metadata": {
        "id": "Y940pcep9UHh",
        "outputId": "c430d781-23a8-4bf3-997e-021de899837f",
        "colab": {
          "base_uri": "https://localhost:8080/",
          "height": 867
        }
      },
      "source": [
        "df.groupby(['education','job'])['balance'].sum()"
      ],
      "execution_count": 33,
      "outputs": [
        {
          "output_type": "execute_result",
          "data": {
            "text/plain": [
              "education  job          \n",
              "primary    admin.             194470\n",
              "           blue-collar       4081580\n",
              "           entrepreneur       307324\n",
              "           housemaid          707420\n",
              "           management         491640\n",
              "           retired           1494239\n",
              "           self-employed      172994\n",
              "           services           333467\n",
              "           student             54715\n",
              "           technician         234981\n",
              "           unemployed         408165\n",
              "           unknown             89263\n",
              "secondary  admin.            4708657\n",
              "           blue-collar       5714177\n",
              "           entrepreneur       580396\n",
              "           housemaid          570218\n",
              "           management        1487048\n",
              "           retired           2028145\n",
              "           self-employed      742616\n",
              "           services          3311338\n",
              "           student            640031\n",
              "           technician        5881175\n",
              "           unemployed        1043027\n",
              "           unknown             88716\n",
              "tertiary   admin.             696569\n",
              "           blue-collar        230838\n",
              "           entrepreneur      1256618\n",
              "           housemaid          316662\n",
              "           management       14306029\n",
              "           retired            791016\n",
              "           self-employed     1625349\n",
              "           services           244710\n",
              "           student            366818\n",
              "           technician        2974578\n",
              "           unemployed         487493\n",
              "           unknown             92017\n",
              "unknown    admin.             273727\n",
              "           blue-collar        472546\n",
              "           entrepreneur       118088\n",
              "           housemaid          132270\n",
              "           management         395571\n",
              "           retired            178863\n",
              "           self-employed       61187\n",
              "           services           252389\n",
              "           student            240437\n",
              "           technician         425512\n",
              "           unemployed          44150\n",
              "           unknown            240443\n",
              "Name: balance, dtype: int64"
            ]
          },
          "metadata": {
            "tags": []
          },
          "execution_count": 33
        }
      ]
    },
    {
      "cell_type": "markdown",
      "metadata": {
        "id": "AjR5L0Gn-egK"
      },
      "source": [
        "**Chi-Squared of Independence**"
      ]
    },
    {
      "cell_type": "code",
      "metadata": {
        "id": "FqexzzDn9uBe"
      },
      "source": [
        "expected, observed, stats = pg.chi2_independence(df, x='loan',\n",
        "                                                 y='y')"
      ],
      "execution_count": 35,
      "outputs": []
    },
    {
      "cell_type": "code",
      "metadata": {
        "id": "G_jatvvoAgCf",
        "outputId": "cb2b7d00-0c5c-483e-d049-4a870437a878",
        "colab": {
          "base_uri": "https://localhost:8080/",
          "height": 142
        }
      },
      "source": [
        "expected"
      ],
      "execution_count": 36,
      "outputs": [
        {
          "output_type": "execute_result",
          "data": {
            "text/html": [
              "<div>\n",
              "<style scoped>\n",
              "    .dataframe tbody tr th:only-of-type {\n",
              "        vertical-align: middle;\n",
              "    }\n",
              "\n",
              "    .dataframe tbody tr th {\n",
              "        vertical-align: top;\n",
              "    }\n",
              "\n",
              "    .dataframe thead th {\n",
              "        text-align: right;\n",
              "    }\n",
              "</style>\n",
              "<table border=\"1\" class=\"dataframe\">\n",
              "  <thead>\n",
              "    <tr style=\"text-align: right;\">\n",
              "      <th>y</th>\n",
              "      <th>no</th>\n",
              "      <th>yes</th>\n",
              "    </tr>\n",
              "    <tr>\n",
              "      <th>loan</th>\n",
              "      <th></th>\n",
              "      <th></th>\n",
              "    </tr>\n",
              "  </thead>\n",
              "  <tbody>\n",
              "    <tr>\n",
              "      <th>no</th>\n",
              "      <td>33525.437924</td>\n",
              "      <td>4441.562076</td>\n",
              "    </tr>\n",
              "    <tr>\n",
              "      <th>yes</th>\n",
              "      <td>6396.562076</td>\n",
              "      <td>847.437924</td>\n",
              "    </tr>\n",
              "  </tbody>\n",
              "</table>\n",
              "</div>"
            ],
            "text/plain": [
              "y               no          yes\n",
              "loan                           \n",
              "no    33525.437924  4441.562076\n",
              "yes    6396.562076   847.437924"
            ]
          },
          "metadata": {
            "tags": []
          },
          "execution_count": 36
        }
      ]
    },
    {
      "cell_type": "code",
      "metadata": {
        "id": "D4EFmcngAi24",
        "outputId": "221a1504-865f-48ea-b9a1-2b99c46e0fa7",
        "colab": {
          "base_uri": "https://localhost:8080/",
          "height": 142
        }
      },
      "source": [
        "observed"
      ],
      "execution_count": 37,
      "outputs": [
        {
          "output_type": "execute_result",
          "data": {
            "text/html": [
              "<div>\n",
              "<style scoped>\n",
              "    .dataframe tbody tr th:only-of-type {\n",
              "        vertical-align: middle;\n",
              "    }\n",
              "\n",
              "    .dataframe tbody tr th {\n",
              "        vertical-align: top;\n",
              "    }\n",
              "\n",
              "    .dataframe thead th {\n",
              "        text-align: right;\n",
              "    }\n",
              "</style>\n",
              "<table border=\"1\" class=\"dataframe\">\n",
              "  <thead>\n",
              "    <tr style=\"text-align: right;\">\n",
              "      <th>y</th>\n",
              "      <th>no</th>\n",
              "      <th>yes</th>\n",
              "    </tr>\n",
              "    <tr>\n",
              "      <th>loan</th>\n",
              "      <th></th>\n",
              "      <th></th>\n",
              "    </tr>\n",
              "  </thead>\n",
              "  <tbody>\n",
              "    <tr>\n",
              "      <th>no</th>\n",
              "      <td>33162.5</td>\n",
              "      <td>4804.5</td>\n",
              "    </tr>\n",
              "    <tr>\n",
              "      <th>yes</th>\n",
              "      <td>6759.5</td>\n",
              "      <td>484.5</td>\n",
              "    </tr>\n",
              "  </tbody>\n",
              "</table>\n",
              "</div>"
            ],
            "text/plain": [
              "y          no     yes\n",
              "loan                 \n",
              "no    33162.5  4804.5\n",
              "yes    6759.5   484.5"
            ]
          },
          "metadata": {
            "tags": []
          },
          "execution_count": 37
        }
      ]
    },
    {
      "cell_type": "code",
      "metadata": {
        "id": "owhAecfaAp16",
        "outputId": "a274bb3e-4d1d-4a32-d229-930c4fdd0c68",
        "colab": {
          "base_uri": "https://localhost:8080/",
          "height": 235
        }
      },
      "source": [
        "stats"
      ],
      "execution_count": 38,
      "outputs": [
        {
          "output_type": "execute_result",
          "data": {
            "text/html": [
              "<div>\n",
              "<style scoped>\n",
              "    .dataframe tbody tr th:only-of-type {\n",
              "        vertical-align: middle;\n",
              "    }\n",
              "\n",
              "    .dataframe tbody tr th {\n",
              "        vertical-align: top;\n",
              "    }\n",
              "\n",
              "    .dataframe thead th {\n",
              "        text-align: right;\n",
              "    }\n",
              "</style>\n",
              "<table border=\"1\" class=\"dataframe\">\n",
              "  <thead>\n",
              "    <tr style=\"text-align: right;\">\n",
              "      <th></th>\n",
              "      <th>test</th>\n",
              "      <th>lambda</th>\n",
              "      <th>chi2</th>\n",
              "      <th>dof</th>\n",
              "      <th>pval</th>\n",
              "      <th>cramer</th>\n",
              "      <th>power</th>\n",
              "    </tr>\n",
              "  </thead>\n",
              "  <tbody>\n",
              "    <tr>\n",
              "      <th>0</th>\n",
              "      <td>pearson</td>\n",
              "      <td>1.000000</td>\n",
              "      <td>209.616980</td>\n",
              "      <td>1.0</td>\n",
              "      <td>1.665061e-47</td>\n",
              "      <td>0.068091</td>\n",
              "      <td>1.0</td>\n",
              "    </tr>\n",
              "    <tr>\n",
              "      <th>1</th>\n",
              "      <td>cressie-read</td>\n",
              "      <td>0.666667</td>\n",
              "      <td>217.964803</td>\n",
              "      <td>1.0</td>\n",
              "      <td>2.513745e-49</td>\n",
              "      <td>0.069434</td>\n",
              "      <td>1.0</td>\n",
              "    </tr>\n",
              "    <tr>\n",
              "      <th>2</th>\n",
              "      <td>log-likelihood</td>\n",
              "      <td>0.000000</td>\n",
              "      <td>237.146048</td>\n",
              "      <td>1.0</td>\n",
              "      <td>1.648199e-53</td>\n",
              "      <td>0.072425</td>\n",
              "      <td>1.0</td>\n",
              "    </tr>\n",
              "    <tr>\n",
              "      <th>3</th>\n",
              "      <td>freeman-tukey</td>\n",
              "      <td>-0.500000</td>\n",
              "      <td>254.090511</td>\n",
              "      <td>1.0</td>\n",
              "      <td>3.331960e-57</td>\n",
              "      <td>0.074967</td>\n",
              "      <td>1.0</td>\n",
              "    </tr>\n",
              "    <tr>\n",
              "      <th>4</th>\n",
              "      <td>mod-log-likelihood</td>\n",
              "      <td>-1.000000</td>\n",
              "      <td>273.667325</td>\n",
              "      <td>1.0</td>\n",
              "      <td>1.801570e-61</td>\n",
              "      <td>0.077802</td>\n",
              "      <td>1.0</td>\n",
              "    </tr>\n",
              "    <tr>\n",
              "      <th>5</th>\n",
              "      <td>neyman</td>\n",
              "      <td>-2.000000</td>\n",
              "      <td>322.752120</td>\n",
              "      <td>1.0</td>\n",
              "      <td>3.642820e-72</td>\n",
              "      <td>0.084491</td>\n",
              "      <td>1.0</td>\n",
              "    </tr>\n",
              "  </tbody>\n",
              "</table>\n",
              "</div>"
            ],
            "text/plain": [
              "                 test    lambda        chi2  dof          pval    cramer  power\n",
              "0             pearson  1.000000  209.616980  1.0  1.665061e-47  0.068091    1.0\n",
              "1        cressie-read  0.666667  217.964803  1.0  2.513745e-49  0.069434    1.0\n",
              "2      log-likelihood  0.000000  237.146048  1.0  1.648199e-53  0.072425    1.0\n",
              "3       freeman-tukey -0.500000  254.090511  1.0  3.331960e-57  0.074967    1.0\n",
              "4  mod-log-likelihood -1.000000  273.667325  1.0  1.801570e-61  0.077802    1.0\n",
              "5              neyman -2.000000  322.752120  1.0  3.642820e-72  0.084491    1.0"
            ]
          },
          "metadata": {
            "tags": []
          },
          "execution_count": 38
        }
      ]
    },
    {
      "cell_type": "markdown",
      "metadata": {
        "id": "aDURXj8QCdHH"
      },
      "source": [
        "**Mann-Whitney U Test (= Wilcoxon rank-sum test)**"
      ]
    },
    {
      "cell_type": "code",
      "metadata": {
        "id": "63KHEpaOAj_b"
      },
      "source": [
        "balance_loan = df[df['loan']=='yes']['balance']\n",
        "balance_no_loan = df[df['loan']=='no']['balance']"
      ],
      "execution_count": 39,
      "outputs": []
    },
    {
      "cell_type": "code",
      "metadata": {
        "id": "cSRvFywACzoF",
        "outputId": "f212421a-3c12-4a42-e878-4d8fb2515f78",
        "colab": {
          "base_uri": "https://localhost:8080/",
          "height": 85
        }
      },
      "source": [
        "df.groupby('loan')['balance'].median()"
      ],
      "execution_count": 41,
      "outputs": [
        {
          "output_type": "execute_result",
          "data": {
            "text/plain": [
              "loan\n",
              "no     496\n",
              "yes    258\n",
              "Name: balance, dtype: int64"
            ]
          },
          "metadata": {
            "tags": []
          },
          "execution_count": 41
        }
      ]
    },
    {
      "cell_type": "code",
      "metadata": {
        "id": "X_IBXfTRCbiD",
        "outputId": "bd359670-2c1f-4e79-8cd6-c27cc30c281a",
        "colab": {
          "base_uri": "https://localhost:8080/",
          "height": 80
        }
      },
      "source": [
        "x=balance_loan\n",
        "y=balance_no_loan\n",
        "pg.mwu(x, y, tail='two-sided')"
      ],
      "execution_count": 40,
      "outputs": [
        {
          "output_type": "execute_result",
          "data": {
            "text/html": [
              "<div>\n",
              "<style scoped>\n",
              "    .dataframe tbody tr th:only-of-type {\n",
              "        vertical-align: middle;\n",
              "    }\n",
              "\n",
              "    .dataframe tbody tr th {\n",
              "        vertical-align: top;\n",
              "    }\n",
              "\n",
              "    .dataframe thead th {\n",
              "        text-align: right;\n",
              "    }\n",
              "</style>\n",
              "<table border=\"1\" class=\"dataframe\">\n",
              "  <thead>\n",
              "    <tr style=\"text-align: right;\">\n",
              "      <th></th>\n",
              "      <th>U-val</th>\n",
              "      <th>tail</th>\n",
              "      <th>p-val</th>\n",
              "      <th>RBC</th>\n",
              "      <th>CLES</th>\n",
              "    </tr>\n",
              "  </thead>\n",
              "  <tbody>\n",
              "    <tr>\n",
              "      <th>MWU</th>\n",
              "      <td>109609078.0</td>\n",
              "      <td>two-sided</td>\n",
              "      <td>1.515910e-165</td>\n",
              "      <td>0.202939</td>\n",
              "      <td>0.398531</td>\n",
              "    </tr>\n",
              "  </tbody>\n",
              "</table>\n",
              "</div>"
            ],
            "text/plain": [
              "           U-val       tail          p-val       RBC      CLES\n",
              "MWU  109609078.0  two-sided  1.515910e-165  0.202939  0.398531"
            ]
          },
          "metadata": {
            "tags": []
          },
          "execution_count": 40
        }
      ]
    },
    {
      "cell_type": "code",
      "metadata": {
        "id": "aC38cUJUCuwU"
      },
      "source": [
        ""
      ],
      "execution_count": null,
      "outputs": []
    }
  ]
}